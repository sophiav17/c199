{
 "cells": [
  {
   "cell_type": "code",
   "execution_count": 1,
   "metadata": {},
   "outputs": [
    {
     "name": "stdout",
     "output_type": "stream",
     "text": [
      "Name : \n",
      "We will be learning how to create a application on jupyter which has GUI elements and how to manuipulate the output as per the values selected from the GUI components\n"
     ]
    }
   ],
   "source": [
    "print(\"Name : \")\n",
    "print(\"We will be learning how to create a application on jupyter which has GUI elements and how to manuipulate the output as per the values selected from the GUI components\")"
   ]
  },
  {
   "cell_type": "markdown",
   "metadata": {},
   "source": [
    "# Code for GUI compenents and manuipulating the output"
   ]
  },
  {
   "cell_type": "code",
   "execution_count": 1,
   "metadata": {
    "scrolled": true
   },
   "outputs": [
    {
     "ename": "AttributeError",
     "evalue": "'str' object has no attribute 'columns'",
     "output_type": "error",
     "traceback": [
      "\u001b[1;31m---------------------------------------------------------------------------\u001b[0m",
      "\u001b[1;31mAttributeError\u001b[0m                            Traceback (most recent call last)",
      "Cell \u001b[1;32mIn[1], line 21\u001b[0m\n\u001b[0;32m     18\u001b[0m     df \u001b[38;5;241m=\u001b[39m pd\u001b[38;5;241m.\u001b[39mread_csv(file_name)\n\u001b[0;32m     19\u001b[0m     \u001b[38;5;28mprint\u001b[39m(file_name)\n\u001b[1;32m---> 21\u001b[0m xlabel_widget \u001b[38;5;241m=\u001b[39m widgets\u001b[38;5;241m.\u001b[39mDropdown(options \u001b[38;5;241m=\u001b[39m \u001b[43mdf\u001b[49m\u001b[38;5;241;43m.\u001b[39;49m\u001b[43mcolumns\u001b[49m)\n\u001b[0;32m     22\u001b[0m ylabel_widget \u001b[38;5;241m=\u001b[39m widgets\u001b[38;5;241m.\u001b[39mDropdown(options \u001b[38;5;241m=\u001b[39m df\u001b[38;5;241m.\u001b[39mcolumns)\n\u001b[0;32m     23\u001b[0m graph_widget \u001b[38;5;241m=\u001b[39m widgets\u001b[38;5;241m.\u001b[39mDropdown(options \u001b[38;5;241m=\u001b[39m graph_type)\n",
      "\u001b[1;31mAttributeError\u001b[0m: 'str' object has no attribute 'columns'"
     ]
    }
   ],
   "source": [
    "from ipywidgets import widgets\n",
    "from IPython.display import display, clear_output\n",
    "import pandas as pd\n",
    "import matplotlib.pyplot as plt \n",
    "from tkinter import Tk, filedialog\n",
    "\n",
    "graph_type = ['Choose one.. ','line','bar']\n",
    "df = ''\n",
    "def select_files(b):\n",
    "    print('Select_files')\n",
    "#   Start coding here\n",
    "    clear_output()\n",
    "    global type_graph\n",
    "    global df\n",
    "    root = Tk()\n",
    "    root.withdraw()\n",
    "    file_name = filedialog.askopenfilename()\n",
    "    df = pd.read_csv(file_name)\n",
    "    print(file_name)\n",
    "    \n",
    "xlabel_widget = widgets.Dropdown(options = df.columns)\n",
    "ylabel_widget = widgets.Dropdown(options = df.columns)\n",
    "graph_widget = widgets.Dropdown(options = graph_type)\n",
    "graph = widgets.interactive(display_plot, xaxis = xlabel_widget, yaxis = ylabel_widget, graph_type = graph_widget)\n",
    "display(graph)\n",
    "\n",
    "def display_plot(xaxis, yaxis, graph_type) :\n",
    "    global df\n",
    "    if(graph_type == 'line') :\n",
    "        plt.subplots(figsize = (19,8))\n",
    "        plt.plot(df[xaxis], df[yaxis], graph_type)\n",
    "        plt.xlabel(xaxis)\n",
    "        plt.ylabel(yaxis)\n",
    "        plt.show()\n",
    "    elif (graph_type == 'bar') :\n",
    "        plt.subplots(figsize = (19,8))\n",
    "        plt.bar(df[xaxis], df[yaxis], color = ['red', 'green', 'blue', 'yellow', 'pink'])\n",
    "        plt.xlabel(xaxis)\n",
    "        plt.xticks(rotation = 'vertical')\n",
    "        plt.ylabel(yaxis)\n",
    "        plt.show()\n",
    "    else : \n",
    "        print('Choose valid graph')\n",
    "    \n",
    "fileselect = widgets.Button(description=\"File select\")\n",
    "fileselect.on_click(select_files) \n",
    "display(fileselect)\n"
   ]
  },
  {
   "cell_type": "code",
   "execution_count": null,
   "metadata": {},
   "outputs": [],
   "source": []
  }
 ],
 "metadata": {
  "kernelspec": {
   "display_name": "Python 3 (ipykernel)",
   "language": "python",
   "name": "python3"
  },
  "language_info": {
   "codemirror_mode": {
    "name": "ipython",
    "version": 3
   },
   "file_extension": ".py",
   "mimetype": "text/x-python",
   "name": "python",
   "nbconvert_exporter": "python",
   "pygments_lexer": "ipython3",
   "version": "3.10.9"
  }
 },
 "nbformat": 4,
 "nbformat_minor": 4
}
